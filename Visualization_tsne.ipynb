{
 "cells": [
  {
   "cell_type": "markdown",
   "metadata": {},
   "source": [
    "#### Import required python modules "
   ]
  },
  {
   "cell_type": "code",
   "execution_count": 1,
   "metadata": {
    "collapsed": true
   },
   "outputs": [],
   "source": [
    "import pandas as pd\n",
    "import numpy as np\n",
    "\n",
    "from sklearn.preprocessing import LabelEncoder, StandardScaler\n",
    "from sklearn.model_selection import train_test_split\n",
    "from sklearn.metrics import accuracy_score\n",
    "\n",
    "from sklearn.manifold import TSNE\n",
    "\n",
    "import matplotlib.pyplot as plt"
   ]
  },
  {
   "cell_type": "markdown",
   "metadata": {},
   "source": [
    "#### Read the data from csv file into DataFrame "
   ]
  },
  {
   "cell_type": "code",
   "execution_count": 2,
   "metadata": {
    "collapsed": false
   },
   "outputs": [
    {
     "name": "stderr",
     "output_type": "stream",
     "text": [
      "C:\\Users\\INSPIRON 15 3542.DELL\\Anaconda2\\lib\\site-packages\\IPython\\core\\interactiveshell.py:2717: DtypeWarning: Columns (10,13,18,21,24,69,72,85,86,88,89,93,96,99) have mixed types. Specify dtype option on import or set low_memory=False.\n",
      "  interactivity=interactivity, compiler=compiler, result=result)\n"
     ]
    }
   ],
   "source": [
    "df = pd.read_csv(\"data.csv\")"
   ]
  },
  {
   "cell_type": "markdown",
   "metadata": {},
   "source": [
    "#### Understand the data"
   ]
  },
  {
   "cell_type": "code",
   "execution_count": 3,
   "metadata": {
    "collapsed": true
   },
   "outputs": [
    {
     "data": {
      "text/plain": [
       "user_name                   object\n",
       "raw_timestamp_part_1         int64\n",
       "raw_timestamp_part_2         int64\n",
       "cvtd_timestamp              object\n",
       "new_window                  object\n",
       "num_window                   int64\n",
       "roll_belt                  float64\n",
       "pitch_belt                 float64\n",
       "yaw_belt                   float64\n",
       "total_accel_belt             int64\n",
       "kurtosis_roll_belt          object\n",
       "kurtosis_picth_belt         object\n",
       "kurtosis_yaw_belt           object\n",
       "skewness_roll_belt          object\n",
       "skewness_roll_belt.1        object\n",
       "skewness_yaw_belt           object\n",
       "max_roll_belt              float64\n",
       "max_picth_belt             float64\n",
       "max_yaw_belt                object\n",
       "min_roll_belt              float64\n",
       "min_pitch_belt             float64\n",
       "min_yaw_belt                object\n",
       "amplitude_roll_belt        float64\n",
       "amplitude_pitch_belt       float64\n",
       "amplitude_yaw_belt          object\n",
       "var_total_accel_belt       float64\n",
       "avg_roll_belt              float64\n",
       "stddev_roll_belt           float64\n",
       "var_roll_belt              float64\n",
       "avg_pitch_belt             float64\n",
       "                            ...   \n",
       "max_roll_forearm           float64\n",
       "max_picth_forearm          float64\n",
       "max_yaw_forearm             object\n",
       "min_roll_forearm           float64\n",
       "min_pitch_forearm          float64\n",
       "min_yaw_forearm             object\n",
       "amplitude_roll_forearm     float64\n",
       "amplitude_pitch_forearm    float64\n",
       "amplitude_yaw_forearm       object\n",
       "total_accel_forearm          int64\n",
       "var_accel_forearm          float64\n",
       "avg_roll_forearm           float64\n",
       "stddev_roll_forearm        float64\n",
       "var_roll_forearm           float64\n",
       "avg_pitch_forearm          float64\n",
       "stddev_pitch_forearm       float64\n",
       "var_pitch_forearm          float64\n",
       "avg_yaw_forearm            float64\n",
       "stddev_yaw_forearm         float64\n",
       "var_yaw_forearm            float64\n",
       "gyros_forearm_x            float64\n",
       "gyros_forearm_y            float64\n",
       "gyros_forearm_z            float64\n",
       "accel_forearm_x              int64\n",
       "accel_forearm_y              int64\n",
       "accel_forearm_z              int64\n",
       "magnet_forearm_x             int64\n",
       "magnet_forearm_y           float64\n",
       "magnet_forearm_z           float64\n",
       "classe                      object\n",
       "Length: 159, dtype: object"
      ]
     },
     "execution_count": 3,
     "metadata": {},
     "output_type": "execute_result"
    }
   ],
   "source": [
    "df.dtypes"
   ]
  },
  {
   "cell_type": "code",
   "execution_count": 4,
   "metadata": {
    "collapsed": false,
    "scrolled": true
   },
   "outputs": [
    {
     "data": {
      "text/plain": [
       "(19622, 159)"
      ]
     },
     "execution_count": 4,
     "metadata": {},
     "output_type": "execute_result"
    }
   ],
   "source": [
    "df.shape"
   ]
  },
  {
   "cell_type": "code",
   "execution_count": 5,
   "metadata": {
    "collapsed": false
   },
   "outputs": [
    {
     "data": {
      "text/html": [
       "<div>\n",
       "<style>\n",
       "    .dataframe thead tr:only-child th {\n",
       "        text-align: right;\n",
       "    }\n",
       "\n",
       "    .dataframe thead th {\n",
       "        text-align: left;\n",
       "    }\n",
       "\n",
       "    .dataframe tbody tr th {\n",
       "        vertical-align: top;\n",
       "    }\n",
       "</style>\n",
       "<table border=\"1\" class=\"dataframe\">\n",
       "  <thead>\n",
       "    <tr style=\"text-align: right;\">\n",
       "      <th></th>\n",
       "      <th>user_name</th>\n",
       "      <th>raw_timestamp_part_1</th>\n",
       "      <th>raw_timestamp_part_2</th>\n",
       "      <th>cvtd_timestamp</th>\n",
       "      <th>new_window</th>\n",
       "      <th>num_window</th>\n",
       "      <th>roll_belt</th>\n",
       "      <th>pitch_belt</th>\n",
       "      <th>yaw_belt</th>\n",
       "      <th>total_accel_belt</th>\n",
       "      <th>...</th>\n",
       "      <th>gyros_forearm_x</th>\n",
       "      <th>gyros_forearm_y</th>\n",
       "      <th>gyros_forearm_z</th>\n",
       "      <th>accel_forearm_x</th>\n",
       "      <th>accel_forearm_y</th>\n",
       "      <th>accel_forearm_z</th>\n",
       "      <th>magnet_forearm_x</th>\n",
       "      <th>magnet_forearm_y</th>\n",
       "      <th>magnet_forearm_z</th>\n",
       "      <th>classe</th>\n",
       "    </tr>\n",
       "  </thead>\n",
       "  <tbody>\n",
       "    <tr>\n",
       "      <th>0</th>\n",
       "      <td>carlitos</td>\n",
       "      <td>1323084231</td>\n",
       "      <td>788290</td>\n",
       "      <td>05-12-2011 11:23</td>\n",
       "      <td>no</td>\n",
       "      <td>11</td>\n",
       "      <td>1.41</td>\n",
       "      <td>8.07</td>\n",
       "      <td>-94.4</td>\n",
       "      <td>3</td>\n",
       "      <td>...</td>\n",
       "      <td>0.03</td>\n",
       "      <td>0.00</td>\n",
       "      <td>-0.02</td>\n",
       "      <td>192</td>\n",
       "      <td>203</td>\n",
       "      <td>-215</td>\n",
       "      <td>-17</td>\n",
       "      <td>654.0</td>\n",
       "      <td>476.0</td>\n",
       "      <td>A</td>\n",
       "    </tr>\n",
       "    <tr>\n",
       "      <th>1</th>\n",
       "      <td>carlitos</td>\n",
       "      <td>1323084231</td>\n",
       "      <td>808298</td>\n",
       "      <td>05-12-2011 11:23</td>\n",
       "      <td>no</td>\n",
       "      <td>11</td>\n",
       "      <td>1.41</td>\n",
       "      <td>8.07</td>\n",
       "      <td>-94.4</td>\n",
       "      <td>3</td>\n",
       "      <td>...</td>\n",
       "      <td>0.02</td>\n",
       "      <td>0.00</td>\n",
       "      <td>-0.02</td>\n",
       "      <td>192</td>\n",
       "      <td>203</td>\n",
       "      <td>-216</td>\n",
       "      <td>-18</td>\n",
       "      <td>661.0</td>\n",
       "      <td>473.0</td>\n",
       "      <td>A</td>\n",
       "    </tr>\n",
       "    <tr>\n",
       "      <th>2</th>\n",
       "      <td>carlitos</td>\n",
       "      <td>1323084231</td>\n",
       "      <td>820366</td>\n",
       "      <td>05-12-2011 11:23</td>\n",
       "      <td>no</td>\n",
       "      <td>11</td>\n",
       "      <td>1.42</td>\n",
       "      <td>8.07</td>\n",
       "      <td>-94.4</td>\n",
       "      <td>3</td>\n",
       "      <td>...</td>\n",
       "      <td>0.03</td>\n",
       "      <td>-0.02</td>\n",
       "      <td>0.00</td>\n",
       "      <td>196</td>\n",
       "      <td>204</td>\n",
       "      <td>-213</td>\n",
       "      <td>-18</td>\n",
       "      <td>658.0</td>\n",
       "      <td>469.0</td>\n",
       "      <td>A</td>\n",
       "    </tr>\n",
       "    <tr>\n",
       "      <th>3</th>\n",
       "      <td>carlitos</td>\n",
       "      <td>1323084232</td>\n",
       "      <td>120339</td>\n",
       "      <td>05-12-2011 11:23</td>\n",
       "      <td>no</td>\n",
       "      <td>12</td>\n",
       "      <td>1.48</td>\n",
       "      <td>8.05</td>\n",
       "      <td>-94.4</td>\n",
       "      <td>3</td>\n",
       "      <td>...</td>\n",
       "      <td>0.02</td>\n",
       "      <td>-0.02</td>\n",
       "      <td>0.00</td>\n",
       "      <td>189</td>\n",
       "      <td>206</td>\n",
       "      <td>-214</td>\n",
       "      <td>-16</td>\n",
       "      <td>658.0</td>\n",
       "      <td>469.0</td>\n",
       "      <td>A</td>\n",
       "    </tr>\n",
       "    <tr>\n",
       "      <th>4</th>\n",
       "      <td>carlitos</td>\n",
       "      <td>1323084232</td>\n",
       "      <td>196328</td>\n",
       "      <td>05-12-2011 11:23</td>\n",
       "      <td>no</td>\n",
       "      <td>12</td>\n",
       "      <td>1.48</td>\n",
       "      <td>8.07</td>\n",
       "      <td>-94.4</td>\n",
       "      <td>3</td>\n",
       "      <td>...</td>\n",
       "      <td>0.02</td>\n",
       "      <td>0.00</td>\n",
       "      <td>-0.02</td>\n",
       "      <td>189</td>\n",
       "      <td>206</td>\n",
       "      <td>-214</td>\n",
       "      <td>-17</td>\n",
       "      <td>655.0</td>\n",
       "      <td>473.0</td>\n",
       "      <td>A</td>\n",
       "    </tr>\n",
       "  </tbody>\n",
       "</table>\n",
       "<p>5 rows × 159 columns</p>\n",
       "</div>"
      ],
      "text/plain": [
       "  user_name  raw_timestamp_part_1  raw_timestamp_part_2    cvtd_timestamp  \\\n",
       "0  carlitos            1323084231                788290  05-12-2011 11:23   \n",
       "1  carlitos            1323084231                808298  05-12-2011 11:23   \n",
       "2  carlitos            1323084231                820366  05-12-2011 11:23   \n",
       "3  carlitos            1323084232                120339  05-12-2011 11:23   \n",
       "4  carlitos            1323084232                196328  05-12-2011 11:23   \n",
       "\n",
       "  new_window  num_window  roll_belt  pitch_belt  yaw_belt  total_accel_belt  \\\n",
       "0         no          11       1.41        8.07     -94.4                 3   \n",
       "1         no          11       1.41        8.07     -94.4                 3   \n",
       "2         no          11       1.42        8.07     -94.4                 3   \n",
       "3         no          12       1.48        8.05     -94.4                 3   \n",
       "4         no          12       1.48        8.07     -94.4                 3   \n",
       "\n",
       "    ...   gyros_forearm_x gyros_forearm_y gyros_forearm_z accel_forearm_x  \\\n",
       "0   ...              0.03            0.00           -0.02             192   \n",
       "1   ...              0.02            0.00           -0.02             192   \n",
       "2   ...              0.03           -0.02            0.00             196   \n",
       "3   ...              0.02           -0.02            0.00             189   \n",
       "4   ...              0.02            0.00           -0.02             189   \n",
       "\n",
       "  accel_forearm_y accel_forearm_z  magnet_forearm_x  magnet_forearm_y  \\\n",
       "0             203            -215               -17             654.0   \n",
       "1             203            -216               -18             661.0   \n",
       "2             204            -213               -18             658.0   \n",
       "3             206            -214               -16             658.0   \n",
       "4             206            -214               -17             655.0   \n",
       "\n",
       "  magnet_forearm_z  classe  \n",
       "0            476.0       A  \n",
       "1            473.0       A  \n",
       "2            469.0       A  \n",
       "3            469.0       A  \n",
       "4            473.0       A  \n",
       "\n",
       "[5 rows x 159 columns]"
      ]
     },
     "execution_count": 5,
     "metadata": {},
     "output_type": "execute_result"
    }
   ],
   "source": [
    "df.head()"
   ]
  },
  {
   "cell_type": "markdown",
   "metadata": {},
   "source": [
    "##### Handline missing values"
   ]
  },
  {
   "cell_type": "markdown",
   "metadata": {},
   "source": [
    "Count the number of missing elements (NaN) in each column"
   ]
  },
  {
   "cell_type": "code",
   "execution_count": 5,
   "metadata": {
    "collapsed": true
   },
   "outputs": [
    {
     "data": {
      "text/plain": [
       "user_name                      0\n",
       "raw_timestamp_part_1           0\n",
       "raw_timestamp_part_2           0\n",
       "cvtd_timestamp                 0\n",
       "new_window                     0\n",
       "num_window                     0\n",
       "roll_belt                      0\n",
       "pitch_belt                     0\n",
       "yaw_belt                       0\n",
       "total_accel_belt               0\n",
       "kurtosis_roll_belt         19216\n",
       "kurtosis_picth_belt        19216\n",
       "kurtosis_yaw_belt          19216\n",
       "skewness_roll_belt         19216\n",
       "skewness_roll_belt.1       19216\n",
       "skewness_yaw_belt          19216\n",
       "max_roll_belt              19216\n",
       "max_picth_belt             19216\n",
       "max_yaw_belt               19216\n",
       "min_roll_belt              19216\n",
       "min_pitch_belt             19216\n",
       "min_yaw_belt               19216\n",
       "amplitude_roll_belt        19216\n",
       "amplitude_pitch_belt       19216\n",
       "amplitude_yaw_belt         19216\n",
       "var_total_accel_belt       19216\n",
       "avg_roll_belt              19216\n",
       "stddev_roll_belt           19216\n",
       "var_roll_belt              19216\n",
       "avg_pitch_belt             19216\n",
       "                           ...  \n",
       "max_roll_forearm           19216\n",
       "max_picth_forearm          19216\n",
       "max_yaw_forearm            19216\n",
       "min_roll_forearm           19216\n",
       "min_pitch_forearm          19216\n",
       "min_yaw_forearm            19216\n",
       "amplitude_roll_forearm     19216\n",
       "amplitude_pitch_forearm    19216\n",
       "amplitude_yaw_forearm      19216\n",
       "total_accel_forearm            0\n",
       "var_accel_forearm          19216\n",
       "avg_roll_forearm           19216\n",
       "stddev_roll_forearm        19216\n",
       "var_roll_forearm           19216\n",
       "avg_pitch_forearm          19216\n",
       "stddev_pitch_forearm       19216\n",
       "var_pitch_forearm          19216\n",
       "avg_yaw_forearm            19216\n",
       "stddev_yaw_forearm         19216\n",
       "var_yaw_forearm            19216\n",
       "gyros_forearm_x                0\n",
       "gyros_forearm_y                0\n",
       "gyros_forearm_z                0\n",
       "accel_forearm_x                0\n",
       "accel_forearm_y                0\n",
       "accel_forearm_z                0\n",
       "magnet_forearm_x               0\n",
       "magnet_forearm_y               0\n",
       "magnet_forearm_z               0\n",
       "classe                         0\n",
       "dtype: int64"
      ]
     },
     "execution_count": 5,
     "metadata": {},
     "output_type": "execute_result"
    }
   ],
   "source": [
    "counter_nan = df.isnull().sum()\n",
    "counter_nan"
   ]
  },
  {
   "cell_type": "code",
   "execution_count": 6,
   "metadata": {
    "collapsed": true
   },
   "outputs": [],
   "source": [
    "counter_without_nan = counter_nan[counter_nan==0]"
   ]
  },
  {
   "cell_type": "code",
   "execution_count": 7,
   "metadata": {
    "collapsed": true
   },
   "outputs": [
    {
     "data": {
      "text/plain": [
       "user_name               0\n",
       "raw_timestamp_part_1    0\n",
       "raw_timestamp_part_2    0\n",
       "cvtd_timestamp          0\n",
       "new_window              0\n",
       "num_window              0\n",
       "roll_belt               0\n",
       "pitch_belt              0\n",
       "yaw_belt                0\n",
       "total_accel_belt        0\n",
       "gyros_belt_x            0\n",
       "gyros_belt_y            0\n",
       "gyros_belt_z            0\n",
       "accel_belt_x            0\n",
       "accel_belt_y            0\n",
       "accel_belt_z            0\n",
       "magnet_belt_x           0\n",
       "magnet_belt_y           0\n",
       "magnet_belt_z           0\n",
       "roll_arm                0\n",
       "pitch_arm               0\n",
       "yaw_arm                 0\n",
       "total_accel_arm         0\n",
       "gyros_arm_x             0\n",
       "gyros_arm_y             0\n",
       "gyros_arm_z             0\n",
       "accel_arm_x             0\n",
       "accel_arm_y             0\n",
       "accel_arm_z             0\n",
       "magnet_arm_x            0\n",
       "magnet_arm_y            0\n",
       "magnet_arm_z            0\n",
       "roll_dumbbell           0\n",
       "pitch_dumbbell          0\n",
       "yaw_dumbbell            0\n",
       "total_accel_dumbbell    0\n",
       "gyros_dumbbell_x        0\n",
       "gyros_dumbbell_y        0\n",
       "gyros_dumbbell_z        0\n",
       "accel_dumbbell_x        0\n",
       "accel_dumbbell_y        0\n",
       "accel_dumbbell_z        0\n",
       "magnet_dumbbell_x       0\n",
       "magnet_dumbbell_y       0\n",
       "magnet_dumbbell_z       0\n",
       "roll_forearm            0\n",
       "pitch_forearm           0\n",
       "yaw_forearm             0\n",
       "total_accel_forearm     0\n",
       "gyros_forearm_x         0\n",
       "gyros_forearm_y         0\n",
       "gyros_forearm_z         0\n",
       "accel_forearm_x         0\n",
       "accel_forearm_y         0\n",
       "accel_forearm_z         0\n",
       "magnet_forearm_x        0\n",
       "magnet_forearm_y        0\n",
       "magnet_forearm_z        0\n",
       "classe                  0\n",
       "dtype: int64"
      ]
     },
     "execution_count": 7,
     "metadata": {},
     "output_type": "execute_result"
    }
   ],
   "source": [
    "counter_without_nan"
   ]
  },
  {
   "cell_type": "code",
   "execution_count": 8,
   "metadata": {
    "collapsed": true
   },
   "outputs": [
    {
     "data": {
      "text/plain": [
       "Index([u'user_name', u'raw_timestamp_part_1', u'raw_timestamp_part_2',\n",
       "       u'cvtd_timestamp', u'new_window', u'num_window', u'roll_belt',\n",
       "       u'pitch_belt', u'yaw_belt', u'total_accel_belt', u'gyros_belt_x',\n",
       "       u'gyros_belt_y', u'gyros_belt_z', u'accel_belt_x', u'accel_belt_y',\n",
       "       u'accel_belt_z', u'magnet_belt_x', u'magnet_belt_y', u'magnet_belt_z',\n",
       "       u'roll_arm', u'pitch_arm', u'yaw_arm', u'total_accel_arm',\n",
       "       u'gyros_arm_x', u'gyros_arm_y', u'gyros_arm_z', u'accel_arm_x',\n",
       "       u'accel_arm_y', u'accel_arm_z', u'magnet_arm_x', u'magnet_arm_y',\n",
       "       u'magnet_arm_z', u'roll_dumbbell', u'pitch_dumbbell', u'yaw_dumbbell',\n",
       "       u'total_accel_dumbbell', u'gyros_dumbbell_x', u'gyros_dumbbell_y',\n",
       "       u'gyros_dumbbell_z', u'accel_dumbbell_x', u'accel_dumbbell_y',\n",
       "       u'accel_dumbbell_z', u'magnet_dumbbell_x', u'magnet_dumbbell_y',\n",
       "       u'magnet_dumbbell_z', u'roll_forearm', u'pitch_forearm', u'yaw_forearm',\n",
       "       u'total_accel_forearm', u'gyros_forearm_x', u'gyros_forearm_y',\n",
       "       u'gyros_forearm_z', u'accel_forearm_x', u'accel_forearm_y',\n",
       "       u'accel_forearm_z', u'magnet_forearm_x', u'magnet_forearm_y',\n",
       "       u'magnet_forearm_z', u'classe'],\n",
       "      dtype='object')"
      ]
     },
     "execution_count": 8,
     "metadata": {},
     "output_type": "execute_result"
    }
   ],
   "source": [
    "counter_without_nan.keys()"
   ]
  },
  {
   "cell_type": "markdown",
   "metadata": {},
   "source": [
    "Remove the columns with missing elements"
   ]
  },
  {
   "cell_type": "code",
   "execution_count": 9,
   "metadata": {
    "collapsed": false
   },
   "outputs": [],
   "source": [
    "df = df[counter_without_nan.keys()]"
   ]
  },
  {
   "cell_type": "markdown",
   "metadata": {},
   "source": [
    "Remove the first 6 columns which contain no discriminative information"
   ]
  },
  {
   "cell_type": "code",
   "execution_count": 10,
   "metadata": {
    "collapsed": true
   },
   "outputs": [],
   "source": [
    "df = df.iloc[:,6:]"
   ]
  },
  {
   "cell_type": "markdown",
   "metadata": {},
   "source": [
    "List of columns. The last column is the class label"
   ]
  },
  {
   "cell_type": "code",
   "execution_count": 12,
   "metadata": {
    "collapsed": true
   },
   "outputs": [
    {
     "data": {
      "text/plain": [
       "Index(['roll_belt', 'pitch_belt', 'yaw_belt', 'total_accel_belt',\n",
       "       'gyros_belt_x', 'gyros_belt_y', 'gyros_belt_z', 'accel_belt_x',\n",
       "       'accel_belt_y', 'accel_belt_z', 'magnet_belt_x', 'magnet_belt_y',\n",
       "       'magnet_belt_z', 'roll_arm', 'pitch_arm', 'yaw_arm', 'total_accel_arm',\n",
       "       'gyros_arm_x', 'gyros_arm_y', 'gyros_arm_z', 'accel_arm_x',\n",
       "       'accel_arm_y', 'accel_arm_z', 'magnet_arm_x', 'magnet_arm_y',\n",
       "       'magnet_arm_z', 'roll_dumbbell', 'pitch_dumbbell', 'yaw_dumbbell',\n",
       "       'total_accel_dumbbell', 'gyros_dumbbell_x', 'gyros_dumbbell_y',\n",
       "       'gyros_dumbbell_z', 'accel_dumbbell_x', 'accel_dumbbell_y',\n",
       "       'accel_dumbbell_z', 'magnet_dumbbell_x', 'magnet_dumbbell_y',\n",
       "       'magnet_dumbbell_z', 'roll_forearm', 'pitch_forearm', 'yaw_forearm',\n",
       "       'total_accel_forearm', 'gyros_forearm_x', 'gyros_forearm_y',\n",
       "       'gyros_forearm_z', 'accel_forearm_x', 'accel_forearm_y',\n",
       "       'accel_forearm_z', 'magnet_forearm_x', 'magnet_forearm_y',\n",
       "       'magnet_forearm_z', 'classe'],\n",
       "      dtype='object')"
      ]
     },
     "execution_count": 12,
     "metadata": {},
     "output_type": "execute_result"
    }
   ],
   "source": [
    "df.columns"
   ]
  },
  {
   "cell_type": "markdown",
   "metadata": {},
   "source": [
    "Extract all independent features and convert them into numpy array(s)"
   ]
  },
  {
   "cell_type": "code",
   "execution_count": 11,
   "metadata": {
    "collapsed": true
   },
   "outputs": [],
   "source": [
    "x = df.iloc[:,:-1].values"
   ]
  },
  {
   "cell_type": "markdown",
   "metadata": {},
   "source": [
    "Standardize the data"
   ]
  },
  {
   "cell_type": "code",
   "execution_count": 12,
   "metadata": {
    "collapsed": true
   },
   "outputs": [],
   "source": [
    "standard_scaler = StandardScaler()\n",
    "\n",
    "x_std = standard_scaler.fit_transform(x)"
   ]
  },
  {
   "cell_type": "markdown",
   "metadata": {},
   "source": [
    "Get class labels y "
   ]
  },
  {
   "cell_type": "code",
   "execution_count": 13,
   "metadata": {
    "collapsed": true
   },
   "outputs": [],
   "source": [
    "y = df.iloc[:,-1].values"
   ]
  },
  {
   "cell_type": "markdown",
   "metadata": {},
   "source": [
    "Encode the class label it into number"
   ]
  },
  {
   "cell_type": "code",
   "execution_count": 14,
   "metadata": {
    "collapsed": true
   },
   "outputs": [],
   "source": [
    "label_encoder = LabelEncoder()\n",
    "y = label_encoder.fit_transform(y)"
   ]
  },
  {
   "cell_type": "markdown",
   "metadata": {},
   "source": [
    "##### Split the data into training set and test set"
   ]
  },
  {
   "cell_type": "code",
   "execution_count": 15,
   "metadata": {
    "collapsed": true
   },
   "outputs": [],
   "source": [
    "test_percentage = 0.1\n",
    "x_train, x_test, y_train, y_test = train_test_split(x_std, y, test_size = test_percentage, random_state = 0)"
   ]
  },
  {
   "cell_type": "markdown",
   "metadata": {},
   "source": [
    "##### t-distributed Stochastic Neighbor Embedding (t-SNE) visualization"
   ]
  },
  {
   "cell_type": "code",
   "execution_count": null,
   "metadata": {
    "collapsed": true
   },
   "outputs": [],
   "source": [
    "tsne = TSNE(n_components=2, random_state=0)\n",
    "x_test_2d = tsne.fit_transform(x_test)"
   ]
  },
  {
   "cell_type": "markdown",
   "metadata": {},
   "source": [
    "Scatter plot the sample points among 5 classes"
   ]
  },
  {
   "cell_type": "code",
   "execution_count": null,
   "metadata": {
    "collapsed": false
   },
   "outputs": [],
   "source": [
    "markers=('s', 'd', 'o', '^', 'v')\n",
    "color_map = {0:'red', 1:'blue', 2:'lightgreen', 3:'purple', 4:'cyan'}\n",
    "\n",
    "plt.figure()\n",
    "for idx, cl in enumerate(np.unique(y_test)):\n",
    "    plt.scatter(x=x_test_2d[y_test==cl,0], y=x_test_2d[y_test==cl,1], c=color_map[idx], marker=markers[idx], label=cl)\n",
    "plt.xlabel('X in t-SNE')\n",
    "plt.ylabel('Y in t-SNE')\n",
    "plt.legend(loc='upper left')\n",
    "plt.title('t-SNE visualization of test data')\n",
    "plt.show()"
   ]
  },
  {
   "cell_type": "markdown",
   "metadata": {},
   "source": [
    "Ref\n",
    "\n",
    "    https://github.com/llSourcell"
   ]
  }
 ],
 "metadata": {
  "kernelspec": {
   "display_name": "Python 2",
   "language": "python",
   "name": "python2"
  },
  "language_info": {
   "codemirror_mode": {
    "name": "ipython",
    "version": 2
   },
   "file_extension": ".py",
   "mimetype": "text/x-python",
   "name": "python",
   "nbconvert_exporter": "python",
   "pygments_lexer": "ipython2",
   "version": "2.7.13"
  }
 },
 "nbformat": 4,
 "nbformat_minor": 2
}
